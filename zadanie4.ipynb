{
 "cells": [
  {
   "cell_type": "markdown",
   "metadata": {},
   "source": [
    "### Dziedziczenie "
   ]
  },
  {
   "cell_type": "markdown",
   "metadata": {},
   "source": [
    "Klasy (obiekty) mogą dziedziczyć po sobie. To oznacza, że wszystkie metody i atrybuty, które zostały zaimplementowanie w klasie bazowej, przechodzą na klasę pochodną. Przykład poniżej. W klasie B nie musimy już definiować funkcji."
   ]
  },
  {
   "cell_type": "code",
   "execution_count": 5,
   "metadata": {},
   "outputs": [
    {
     "name": "stdout",
     "output_type": "stream",
     "text": [
      "<__main__.Planet object at 0x10926ea20>\n",
      "H2O\n"
     ]
    },
    {
     "data": {
      "text/plain": [
       "20"
      ]
     },
     "execution_count": 5,
     "metadata": {},
     "output_type": "execute_result"
    }
   ],
   "source": [
    "class Planet:\n",
    "    \n",
    "    orbit = \"Sun\"\n",
    "    \n",
    "    def __init__(self, radius, mass):\n",
    "        self.promien = radius\n",
    "        self.masa = mass\n",
    "    \n",
    "    \n",
    "class Earth(Planet):\n",
    "    \n",
    "    def __init__(self, radius, mass, temperature):\n",
    "        Planet.__init__(self, radius, mass)\n",
    "        self.temperatura = temperature\n",
    "    \n",
    "    def start_life(self):\n",
    "        print(\"H2O\")\n",
    "        \n",
    "\n",
    "mars = Planet(100, 1e90)\n",
    "print(mars)\n",
    "\n",
    "ziemia = Earth(20, 30, 30)\n",
    "    \n",
    "ziemia.start_life()\n",
    "ziemia.promien"
   ]
  },
  {
   "cell_type": "markdown",
   "metadata": {},
   "source": [
    "### Zdanie\n",
    "Napisać klasę członka Koła Naukowego (imię, nazwisko, czy zapłacił składkę), następnie stworzyć drugą klasę członka grupy DR, która będzie dziedziczyć po członku Koła Naukowego. Dodatkwo będzie posiadać metodę zliczającą zrobione zadania i pseudonim :)"
   ]
  },
  {
   "cell_type": "code",
   "execution_count": 25,
   "metadata": {},
   "outputs": [
    {
     "name": "stdout",
     "output_type": "stream",
     "text": [
      "Imię i nazwisko: Jacek H.\n",
      "Pseudonim rangera: rita repulsa\n",
      "Czy zapłacił skladkę: Nie\n",
      "Ilość zrobionych zadan: inf\n",
      "\n",
      "Imię i nazwisko: Gosia W.\n",
      "Pseudonim rangera: Ranger 69kg\n",
      "Czy zapłacił skladkę: Tak\n",
      "Ilość zrobionych zadan: 2\n",
      "\n",
      "Imię i nazwisko: Gosia W.\n",
      "Pseudonim rangera: Ranger 69kg\n",
      "Czy zapłacił skladkę: Tak\n",
      "Ilość zrobionych zadan: 3\n",
      "\n"
     ]
    }
   ],
   "source": [
    "class Czlonek_Kola_Naukowego:\n",
    "    \n",
    "    def __init__(self, imie, nazwisko, zaplacil):\n",
    "        self.imie = imie\n",
    "        self.nazwisko = nazwisko\n",
    "        self.paid = zaplacil\n",
    "\n",
    "\n",
    "class DrMember(Czlonek_Kola_Naukowego):\n",
    "    \n",
    "    def __init__(self, imie, nazwisko, zaplacil, pseudonim, n_zadan):\n",
    "        Czlonek_Kola_Naukowego.__init__(self, imie, nazwisko, zaplacil)\n",
    "        self.name = pseudonim\n",
    "        self.ile = n_zadan\n",
    "        \n",
    "    def __str__(self):\n",
    "            \n",
    "        if self.paid == True:\n",
    "            return \"Imię i nazwisko: \" + self.imie + \" \" + self.nazwisko + '\\n'+ \"Pseudonim rangera: \" + self.name + '\\n' + 'Czy zapłacił skladkę: ' + 'Tak'+ '\\n' + 'Ilość zrobionych zadan: ' + str(self.ile) + '\\n'\n",
    "            \n",
    "        else:\n",
    "            return \"Imię i nazwisko: \" + self.imie + \" \" + self.nazwisko + '\\n'+ \"Pseudonim rangera: \" + self.name + '\\n' + 'Czy zapłacił skladkę: ' + 'Nie'+ '\\n' + 'Ilość zrobionych zadan: ' + str(self.ile) + '\\n'\n",
    "            \n",
    "    def solved_problem(self):\n",
    "        if self.paid == True:\n",
    "            print(\"Imię i nazwisko: \" + self.imie + \" \" + self.nazwisko + '\\n'+ \"Pseudonim rangera: \" + self.name + '\\n' + 'Czy zapłacił skladkę: ' + 'Tak'+ '\\n' + 'Ilość zrobionych zadan: ' + str(self.ile+1) + '\\n')\n",
    "            \n",
    "        else:\n",
    "            print(\"Imię i nazwisko: \" + self.imie +\" \" + self.nazwisko + '\\n'+ \"Pseudonim rangera: \" + self.name + '\\n' + 'Czy zapłacił skladkę: ' + 'Nie'+ '\\n' + 'Ilość zrobionych zadan: ' + str(self.ile+1) + '\\n')\n",
    "            \n",
    "czlonek1 = DrMember(\"Jacek\", \"H.\", zaplacil=False, pseudonim=\"rita repulsa\", n_zadan=float('inf'))\n",
    "print(czlonek1)      \n",
    "\n",
    "czlonek2 = DrMember(\"Gosia\", \"W.\", zaplacil=True, pseudonim=\"Ranger 69kg\", n_zadan=2)\n",
    "print(czlonek2)     \n",
    "\n",
    "czlonek2.solved_problem()"
   ]
  }
 ],
 "metadata": {
  "kernelspec": {
   "display_name": "Python 3",
   "language": "python",
   "name": "python3"
  },
  "language_info": {
   "codemirror_mode": {
    "name": "ipython",
    "version": 3
   },
   "file_extension": ".py",
   "mimetype": "text/x-python",
   "name": "python",
   "nbconvert_exporter": "python",
   "pygments_lexer": "ipython3",
   "version": "3.7.0"
  }
 },
 "nbformat": 4,
 "nbformat_minor": 2
}
