{
 "cells": [
  {
   "cell_type": "markdown",
   "metadata": {},
   "source": [
    "### Zadanie\n",
    "There are $n$ groups of friends, and each group is numbered from 1 to $n$. The $i^{th}$ group contains $a_i$ people.\n",
    "\n",
    "They live near a bus stop, and only a single bus operates on this route. An empty bus arrives at the bus stop and all the groups want to travel by the bus.\n",
    "\n",
    "However, group of friends do not want to get separated. So they enter the bus only if the bus can carry the entire group.\n",
    "\n",
    "Moreover, the groups do not want to change their relative positioning while travelling. In other words, group 3 cannot travel by bus, unless group 1 and group 2 have either:\n",
    "\n",
    "- already traveled by the bus in the previous trip or \n",
    "- they are also sitting inside the bus at present.\n",
    "\n",
    "You are given that a bus of size $x$ can carry $x$ people simultaneously.\n",
    "\n",
    "\n",
    "#### Problem\n",
    "**Find the size $x$ of the bus** so that:\n",
    "\n",
    "1. the bus can transport all the groups and\n",
    "2. every time when the bus starts from the bus station, there is **no empty space** in the bus (i.e. the total number of people present inside the bus is equal to $x$)?\n",
    "\n",
    "\n",
    "#### Sample Input\n",
    "a = [1, 2, 1, 1, 1, 2, 1, 3]\n",
    "\n",
    "\n",
    "#### Sample Output\n",
    "[3, 4, 6, 12]\n",
    "\n",
    "\n",
    "#### Sample Explanation\n",
    "\n",
    "In the above example,\n",
    "$a_1$ = 1, $a_2$ = 2, $a_3$ = 1, $a_4$ = 1, $a_5$ = 1, $a_6$ = 2, $a_7$ = 1, $a_8$ = 3.\n",
    "\n",
    "If $x = 1$: In the first trip, $a_1$ go by the bus. There will be no second trip because the bus cannot accommodate group 2. Hence \"$x = 1$\" is not the required answer.\n",
    "\n",
    "If $x = 2$: No bus trip is possible. That's because $a_1$ cannot go alone, as one seat will be **left vacant** in the bus. And, $a_1$ & $a_2$ cannot go together, because the bus cannot accommodate both the groups simultaneously.\n",
    "\n",
    "If $x = 3$: In the first trip, $a_1$ & $a_2$ go by the bus. In the second trip, $a_3$, $a_4$ & $a_5$ go by the bus. In the third trip, $a_6$ & $a_7$ go by the bus. In the fourth trip, $a_8$ go by the bus.\n",
    "\n",
    "If $x = 4$: In the first trip, $a_1$, $a_2$ & $a_3$ go by the bus. In the second trip, $a_4$, $a_5$ & $a_6$ go by the bus. In the third trip $a_7$ & $a_8$ go by the bus.\n",
    "\n",
    "Similarly you can figure out the output for $x = 5, 6$ & $7$."
   ]
  },
  {
   "cell_type": "code",
   "execution_count": 2,
   "metadata": {},
   "outputs": [
    {
     "name": "stdout",
     "output_type": "stream",
     "text": [
      "[1, 2, 1, 1, 1, 2, 1, 3] wektor\n",
      "[1, 2, 3, 4, 6, 12] dzileniki\n",
      "[3, 4, 6, 12] output\n"
     ]
    }
   ],
   "source": [
    "import numpy as np\n",
    "\n",
    "\n",
    "# to nie za bardzo działa, w zasadzie wyznacza tylko możliwą liczbę miejsc w autobusie :( \n",
    "\n",
    "\n",
    "a = [1, 2, 1, 1, 1, 2, 1, 3]\n",
    "print(a, 'wektor')\n",
    "x1=np.sum(a)\n",
    "\n",
    "\n",
    "b=range(1,x1+1)\n",
    "div = []\n",
    "for i in b:\n",
    "    if x1 % i == 0:\n",
    "        div.append(i)\n",
    "print(div, 'dzileniki')\n",
    "\n",
    "\n",
    "kandydaci=[]\n",
    "\n",
    "for i in range(len(a)+1):\n",
    "    if np.sum(a[0:i]) in div and np.sum(a[0:i])>=np.max(a):\n",
    "        kandydaci.append(np.sum(a[0:i]))\n",
    "\n",
    "print(kandydaci, 'output')"
   ]
  }
 ],
 "metadata": {
  "kernelspec": {
   "display_name": "Python 3",
   "language": "python",
   "name": "python3"
  },
  "language_info": {
   "codemirror_mode": {
    "name": "ipython",
    "version": 3
   },
   "file_extension": ".py",
   "mimetype": "text/x-python",
   "name": "python",
   "nbconvert_exporter": "python",
   "pygments_lexer": "ipython3",
   "version": "3.7.0"
  }
 },
 "nbformat": 4,
 "nbformat_minor": 2
}
